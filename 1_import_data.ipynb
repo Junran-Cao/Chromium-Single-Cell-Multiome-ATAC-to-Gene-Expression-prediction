{
 "cells": [
  {
   "cell_type": "markdown",
   "id": "7b6672b4-8495-43f7-9790-5b464f2e8a76",
   "metadata": {},
   "source": [
    "# Import data"
   ]
  },
  {
   "cell_type": "markdown",
   "id": "08416835-e7ac-41ab-883c-53cabf55518a",
   "metadata": {},
   "source": [
    "Last updated 26 Dec 2022"
   ]
  },
  {
   "cell_type": "markdown",
   "id": "2c62e72b-d323-44f1-8e81-22b73b03f1d4",
   "metadata": {},
   "source": [
    "Most machine learning algorithms, in `sklearn` for example, operate on data stored in memory only. \n",
    "\n",
    "As such, given the sheer sizes of the datasets in this project, the primary challenge is to import the data in such a manner that may be operated upon by the prediction models.\n",
    "\n",
    "This notebook provides a function written to achieve this. It reads in the original HDF5 data in batches; for each batch, it immediately converts the data to a sparse matrix, and frees up available memory; it then proceeds to the next batch and concatenates the latest imported sparse matrix to existing matrices. \n",
    "\n",
    "In this manner, the same information is retained as of the original datasets, but the data sizes are reduced to such an extent that we can construct predictive models using them."
   ]
  },
  {
   "cell_type": "markdown",
   "id": "330cf0cf-f82d-4478-98fd-7e6007faf066",
   "metadata": {},
   "source": [
    "**Data used:**\n",
    "\n",
    "I use the **Chromium Single Cell Multiome ATAC + Gene Expression** data throughout this project. \n",
    "\n",
    "These large datasets do not admit the standard machine learning workflow."
   ]
  },
  {
   "cell_type": "markdown",
   "id": "07546640-c26e-4712-9837-9c05768502d2",
   "metadata": {},
   "source": [
    "Note that I have mostly eschewed the exploratory data analysis stages in this project. Not because that component is unimportant, but because much useful analyses have already been produced on this subject (see: https://www.kaggle.com/competitions/open-problems-multimodal/code). \n",
    "\n",
    "Instead my objective is to provide tools and scripts that are necessary in dealing with large genomic datasets but which are largely absent from off-the-shelf solutions."
   ]
  },
  {
   "cell_type": "code",
   "execution_count": 9,
   "id": "61223b80-e740-4e7e-90a9-b4e8e9ff1ca6",
   "metadata": {
    "execution": {
     "iopub.execute_input": "2022-12-29T12:06:28.148927Z",
     "iopub.status.busy": "2022-12-29T12:06:28.148550Z",
     "iopub.status.idle": "2022-12-29T12:06:28.152432Z",
     "shell.execute_reply": "2022-12-29T12:06:28.151826Z",
     "shell.execute_reply.started": "2022-12-29T12:06:28.148901Z"
    },
    "tags": []
   },
   "outputs": [],
   "source": [
    "import os\n",
    "import gc\n",
    "\n",
    "import numpy as np\n",
    "import pandas as pd\n",
    "import matplotlib.pyplot as plt\n",
    "\n",
    "import h5py\n",
    "import scipy"
   ]
  },
  {
   "cell_type": "code",
   "execution_count": 4,
   "id": "bc1874a9-c0e5-4e4d-b2a8-776def7686bc",
   "metadata": {
    "execution": {
     "iopub.execute_input": "2022-12-29T12:06:03.445665Z",
     "iopub.status.busy": "2022-12-29T12:06:03.445275Z",
     "iopub.status.idle": "2022-12-29T12:06:03.450436Z",
     "shell.execute_reply": "2022-12-29T12:06:03.449926Z",
     "shell.execute_reply.started": "2022-12-29T12:06:03.445643Z"
    },
    "tags": []
   },
   "outputs": [],
   "source": [
    "data_directory = \"/home/jovyan/project/Data/\"\n",
    "\n",
    "cell_metadata = os.path.join(data_directory, \"metadata.csv\")\n",
    "\n",
    "cite_train_inputs = os.path.join(data_directory, \"train_cite_inputs.h5\")\n",
    "cite_train_targets = os.path.join(data_directory, \"train_cite_targets.h5\")\n",
    "cite_test_inputs = os.path.join(data_directory, \"test_cite_inputs.h5\")\n",
    "\n",
    "multiome_train_inputs = os.path.join(data_directory, \"train_multi_inputs.h5\")\n",
    "multiome_train_targets = os.path.join(data_directory, \"train_multi_targets.h5\")\n",
    "multiome_test_inputs = os.path.join(data_directory, \"test_multi_inputs.h5\")\n",
    "\n",
    "donor2_day2_cite_test_inputs = os.path.join(data_directory, \"test_cite_inputs_day_2_donor_27678.h5\")\n",
    "donor2_day2_cell_metadata = os.path.join(data_directory, \"metadata_cite_day_2_donor_27678.csv\")\n",
    "\n",
    "submission_file = os.path.join(data_directory, \"sample_submssion.csv\")\n",
    "evaluation_ids = os.path.join(data_directory, \"evaluation_ids.csv\")"
   ]
  },
  {
   "cell_type": "markdown",
   "id": "f90e3eab-d8bc-45c3-a934-0bdc42ac108d",
   "metadata": {},
   "source": [
    "## Multiome data: Chromatin accessibility --> Gene expression"
   ]
  },
  {
   "cell_type": "markdown",
   "id": "7c1d4227-4207-462e-83e8-1a06542c38d6",
   "metadata": {},
   "source": [
    "### a. Training data - predictors"
   ]
  },
  {
   "cell_type": "code",
   "execution_count": 18,
   "id": "ddf9cdf9-1cb4-40d0-ac1f-9ec97acd6c65",
   "metadata": {
    "execution": {
     "iopub.execute_input": "2022-12-24T04:33:07.991091Z",
     "iopub.status.busy": "2022-12-24T04:33:07.990723Z",
     "iopub.status.idle": "2022-12-24T08:05:11.004679Z",
     "shell.execute_reply": "2022-12-24T08:05:11.004016Z",
     "shell.execute_reply.started": "2022-12-24T04:33:07.991071Z"
    },
    "tags": []
   },
   "outputs": [],
   "source": [
    "df_num = round(105942/1000)\n",
    "df_list = []\n",
    "\n",
    "start_row_num = 0\n",
    "df_multiome_train_x = scipy.sparse.csr_matrix(np.empty((0,228942), dtype = np.float32))\n",
    "\n",
    "for i in range(df_num):\n",
    "    df_list.append(\"df_\" + str(i))\n",
    "    \n",
    "    for j in df_list:\n",
    "        j = pd.read_hdf(multiome_train_inputs, start = start_row_num, stop = start_row_num + 1000)\n",
    "        j = scipy.sparse.csr_matrix(j.values)\n",
    "\n",
    "        df_multiome_train_x = scipy.sparse.vstack([df_multiome_train_x,j])\n",
    "        \n",
    "        gc.collect()\n",
    "        \n",
    "        start_row_num += 1001"
   ]
  },
  {
   "cell_type": "code",
   "execution_count": 19,
   "id": "3f7d8cf7-8c65-4373-821c-48572953d634",
   "metadata": {
    "execution": {
     "iopub.execute_input": "2022-12-24T08:05:11.005878Z",
     "iopub.status.busy": "2022-12-24T08:05:11.005579Z",
     "iopub.status.idle": "2022-12-24T08:05:11.009768Z",
     "shell.execute_reply": "2022-12-24T08:05:11.009285Z",
     "shell.execute_reply.started": "2022-12-24T08:05:11.005856Z"
    },
    "tags": []
   },
   "outputs": [
    {
     "data": {
      "text/plain": [
       "<105837x228942 sparse matrix of type '<class 'numpy.float32'>'\n",
       "\twith 606717924 stored elements in Compressed Sparse Row format>"
      ]
     },
     "execution_count": 19,
     "metadata": {},
     "output_type": "execute_result"
    }
   ],
   "source": [
    "df_multiome_train_x"
   ]
  },
  {
   "cell_type": "code",
   "execution_count": 20,
   "id": "b2277c67-cd48-4cc7-986c-1185985a8fa2",
   "metadata": {
    "execution": {
     "iopub.execute_input": "2022-12-24T08:05:11.010808Z",
     "iopub.status.busy": "2022-12-24T08:05:11.010462Z",
     "iopub.status.idle": "2022-12-24T08:10:07.762461Z",
     "shell.execute_reply": "2022-12-24T08:10:07.761819Z",
     "shell.execute_reply.started": "2022-12-24T08:05:11.010790Z"
    },
    "tags": []
   },
   "outputs": [],
   "source": [
    "scipy.sparse.save_npz(\"/home/jovyan/project/Processed Data/df_multiome_train_x.npz\", df_multiome_train_x)"
   ]
  },
  {
   "cell_type": "markdown",
   "id": "3f6e3de3-d03f-45f0-954b-0e154e14e91f",
   "metadata": {},
   "source": [
    "### b. Training data - labels"
   ]
  },
  {
   "cell_type": "code",
   "execution_count": 27,
   "id": "219f4238-d45e-435f-8904-f2d345349ed2",
   "metadata": {
    "execution": {
     "iopub.execute_input": "2022-12-24T08:56:43.427195Z",
     "iopub.status.busy": "2022-12-24T08:56:43.426807Z",
     "iopub.status.idle": "2022-12-24T11:00:07.321079Z",
     "shell.execute_reply": "2022-12-24T11:00:07.320459Z",
     "shell.execute_reply.started": "2022-12-24T08:56:43.427173Z"
    },
    "tags": []
   },
   "outputs": [],
   "source": [
    "## for dimenion info: https://www.kaggle.com/code/ambrosm/msci-eda-which-makes-sense\n",
    "\n",
    "# train inputs: 105942 * 228942 float32 values (97 GByte)\n",
    "# train targets: 105942 * 23418 float32 values (10 GByte)\n",
    "# test inputs: 55935 * 228942 float32 values (13 GByte)\n",
    "\n",
    "df_num = round(105942/1000)\n",
    "df_list = []\n",
    "\n",
    "start_row_num = 0\n",
    "df_multiome_train_y = scipy.sparse.csr_matrix(np.empty((0,23418), dtype = np.float32))\n",
    "\n",
    "for i in range(df_num):\n",
    "    df_list.append(\"df_\" + str(i))\n",
    "    \n",
    "    for j in df_list:\n",
    "        j = pd.read_hdf(multiome_train_targets, start = start_row_num, stop = start_row_num + 1000)\n",
    "        j = scipy.sparse.csr_matrix(j.values)\n",
    "        \n",
    "        df_multiome_train_y = scipy.sparse.vstack([df_multiome_train_y,j])\n",
    "        \n",
    "        gc.collect()\n",
    "        \n",
    "        start_row_num += 1001"
   ]
  },
  {
   "cell_type": "code",
   "execution_count": 28,
   "id": "22bacfac-7add-4ddd-a14b-b40738e19682",
   "metadata": {
    "execution": {
     "iopub.execute_input": "2022-12-24T11:00:07.322488Z",
     "iopub.status.busy": "2022-12-24T11:00:07.322170Z",
     "iopub.status.idle": "2022-12-24T11:00:07.326287Z",
     "shell.execute_reply": "2022-12-24T11:00:07.325763Z",
     "shell.execute_reply.started": "2022-12-24T11:00:07.322468Z"
    },
    "tags": []
   },
   "outputs": [
    {
     "data": {
      "text/plain": [
       "<105837x23418 sparse matrix of type '<class 'numpy.float32'>'\n",
       "\twith 406618832 stored elements in Compressed Sparse Row format>"
      ]
     },
     "execution_count": 28,
     "metadata": {},
     "output_type": "execute_result"
    }
   ],
   "source": [
    "df_multiome_train_y"
   ]
  },
  {
   "cell_type": "code",
   "execution_count": 29,
   "id": "43ca0931-98b5-4671-9d3a-6b081c325c02",
   "metadata": {
    "execution": {
     "iopub.execute_input": "2022-12-24T11:00:07.327350Z",
     "iopub.status.busy": "2022-12-24T11:00:07.327005Z",
     "iopub.status.idle": "2022-12-24T11:03:23.214014Z",
     "shell.execute_reply": "2022-12-24T11:03:23.213407Z",
     "shell.execute_reply.started": "2022-12-24T11:00:07.327331Z"
    },
    "tags": []
   },
   "outputs": [],
   "source": [
    "scipy.sparse.save_npz(\"/home/jovyan/project/Processed Data/df_multiome_train_y.npz\", df_multiome_train_y)"
   ]
  },
  {
   "cell_type": "markdown",
   "id": "e53b4a58-d16e-4466-a135-d226b52874ff",
   "metadata": {},
   "source": [
    "### c. Test data - predictors"
   ]
  },
  {
   "cell_type": "code",
   "execution_count": 10,
   "id": "9ac3a72d-af26-42fd-b7de-6dcdda669092",
   "metadata": {
    "execution": {
     "iopub.execute_input": "2022-12-25T00:38:48.499452Z",
     "iopub.status.busy": "2022-12-25T00:38:48.499076Z",
     "iopub.status.idle": "2022-12-25T01:23:25.953931Z",
     "shell.execute_reply": "2022-12-25T01:23:25.953275Z",
     "shell.execute_reply.started": "2022-12-25T00:38:48.499428Z"
    },
    "tags": []
   },
   "outputs": [],
   "source": [
    "df_num = round(55935/1000)\n",
    "df_list = []\n",
    "\n",
    "start_row_num = 0\n",
    "df_multiome_test_x = scipy.sparse.csr_matrix(np.empty((0,228942), dtype = np.float32))\n",
    "\n",
    "for i in range(df_num):\n",
    "    df_list.append(\"df_\" + str(i))\n",
    "    \n",
    "    for j in df_list:\n",
    "        j = pd.read_hdf(multiome_test_inputs, start = start_row_num, stop = start_row_num + 1000)\n",
    "        j = scipy.sparse.csr_matrix(j.values)\n",
    "        \n",
    "        df_multiome_test_x = scipy.sparse.vstack([df_multiome_test_x,j])\n",
    "        \n",
    "        gc.collect()\n",
    "        \n",
    "        start_row_num += 1001"
   ]
  },
  {
   "cell_type": "code",
   "execution_count": 11,
   "id": "2258969d-78fb-4cdb-883b-7544036f1b10",
   "metadata": {
    "execution": {
     "iopub.execute_input": "2022-12-25T01:23:25.955400Z",
     "iopub.status.busy": "2022-12-25T01:23:25.955100Z",
     "iopub.status.idle": "2022-12-25T01:23:25.959406Z",
     "shell.execute_reply": "2022-12-25T01:23:25.958931Z",
     "shell.execute_reply.started": "2022-12-25T01:23:25.955377Z"
    },
    "tags": []
   },
   "outputs": [
    {
     "data": {
      "text/plain": [
       "<55880x228942 sparse matrix of type '<class 'numpy.float32'>'\n",
       "\twith 353280741 stored elements in Compressed Sparse Row format>"
      ]
     },
     "execution_count": 11,
     "metadata": {},
     "output_type": "execute_result"
    }
   ],
   "source": [
    "df_multiome_test_x"
   ]
  },
  {
   "cell_type": "code",
   "execution_count": 12,
   "id": "0a35e68f-2e4e-44c4-8da2-cc72be18bcee",
   "metadata": {
    "execution": {
     "iopub.execute_input": "2022-12-25T01:23:25.960442Z",
     "iopub.status.busy": "2022-12-25T01:23:25.960092Z",
     "iopub.status.idle": "2022-12-25T01:26:19.068041Z",
     "shell.execute_reply": "2022-12-25T01:26:19.067435Z",
     "shell.execute_reply.started": "2022-12-25T01:23:25.960423Z"
    },
    "tags": []
   },
   "outputs": [],
   "source": [
    "scipy.sparse.save_npz(\"/home/jovyan/project/Processed Data/df_multiome_test_x.npz\", df_multiome_test_x)"
   ]
  },
  {
   "cell_type": "markdown",
   "id": "cf04fc86-85ab-4047-a243-087b0935d03a",
   "metadata": {},
   "source": [
    "#### Metadata"
   ]
  },
  {
   "cell_type": "markdown",
   "id": "b4086667-befe-4d51-840b-7b5adb869445",
   "metadata": {},
   "source": [
    "This is an extra section on the (much smaller in size) metadata. \n",
    "\n",
    "This dataset is peripheral to the overall project. But does become useful in UMAP visualisation because we can use the annotated cell types as labels. "
   ]
  },
  {
   "cell_type": "code",
   "execution_count": 10,
   "id": "a97814fd-7faf-4e18-8df0-cdea40fd1465",
   "metadata": {
    "execution": {
     "iopub.execute_input": "2022-12-29T12:06:33.414435Z",
     "iopub.status.busy": "2022-12-29T12:06:33.414022Z",
     "iopub.status.idle": "2022-12-29T12:06:33.622911Z",
     "shell.execute_reply": "2022-12-29T12:06:33.622205Z",
     "shell.execute_reply.started": "2022-12-29T12:06:33.414410Z"
    },
    "tags": []
   },
   "outputs": [],
   "source": [
    "metadata = pd.read_csv(cell_metadata)"
   ]
  },
  {
   "cell_type": "code",
   "execution_count": 11,
   "id": "89ad7363-6bc7-4943-b650-ca4bc192f331",
   "metadata": {
    "execution": {
     "iopub.execute_input": "2022-12-29T12:06:33.624460Z",
     "iopub.status.busy": "2022-12-29T12:06:33.624151Z",
     "iopub.status.idle": "2022-12-29T12:06:33.632094Z",
     "shell.execute_reply": "2022-12-29T12:06:33.631536Z",
     "shell.execute_reply.started": "2022-12-29T12:06:33.624439Z"
    },
    "tags": []
   },
   "outputs": [
    {
     "data": {
      "text/html": [
       "<div>\n",
       "<style scoped>\n",
       "    .dataframe tbody tr th:only-of-type {\n",
       "        vertical-align: middle;\n",
       "    }\n",
       "\n",
       "    .dataframe tbody tr th {\n",
       "        vertical-align: top;\n",
       "    }\n",
       "\n",
       "    .dataframe thead th {\n",
       "        text-align: right;\n",
       "    }\n",
       "</style>\n",
       "<table border=\"1\" class=\"dataframe\">\n",
       "  <thead>\n",
       "    <tr style=\"text-align: right;\">\n",
       "      <th></th>\n",
       "      <th>cell_id</th>\n",
       "      <th>day</th>\n",
       "      <th>donor</th>\n",
       "      <th>cell_type</th>\n",
       "      <th>technology</th>\n",
       "    </tr>\n",
       "  </thead>\n",
       "  <tbody>\n",
       "    <tr>\n",
       "      <th>0</th>\n",
       "      <td>c2150f55becb</td>\n",
       "      <td>2</td>\n",
       "      <td>27678</td>\n",
       "      <td>HSC</td>\n",
       "      <td>citeseq</td>\n",
       "    </tr>\n",
       "    <tr>\n",
       "      <th>1</th>\n",
       "      <td>65b7edf8a4da</td>\n",
       "      <td>2</td>\n",
       "      <td>27678</td>\n",
       "      <td>HSC</td>\n",
       "      <td>citeseq</td>\n",
       "    </tr>\n",
       "    <tr>\n",
       "      <th>2</th>\n",
       "      <td>c1b26cb1057b</td>\n",
       "      <td>2</td>\n",
       "      <td>27678</td>\n",
       "      <td>EryP</td>\n",
       "      <td>citeseq</td>\n",
       "    </tr>\n",
       "    <tr>\n",
       "      <th>3</th>\n",
       "      <td>917168fa6f83</td>\n",
       "      <td>2</td>\n",
       "      <td>27678</td>\n",
       "      <td>NeuP</td>\n",
       "      <td>citeseq</td>\n",
       "    </tr>\n",
       "    <tr>\n",
       "      <th>4</th>\n",
       "      <td>2b29feeca86d</td>\n",
       "      <td>2</td>\n",
       "      <td>27678</td>\n",
       "      <td>EryP</td>\n",
       "      <td>citeseq</td>\n",
       "    </tr>\n",
       "    <tr>\n",
       "      <th>5</th>\n",
       "      <td>0fd801488185</td>\n",
       "      <td>2</td>\n",
       "      <td>27678</td>\n",
       "      <td>EryP</td>\n",
       "      <td>citeseq</td>\n",
       "    </tr>\n",
       "    <tr>\n",
       "      <th>6</th>\n",
       "      <td>526647a698f8</td>\n",
       "      <td>2</td>\n",
       "      <td>27678</td>\n",
       "      <td>HSC</td>\n",
       "      <td>citeseq</td>\n",
       "    </tr>\n",
       "    <tr>\n",
       "      <th>7</th>\n",
       "      <td>ab8f207a3dec</td>\n",
       "      <td>2</td>\n",
       "      <td>27678</td>\n",
       "      <td>HSC</td>\n",
       "      <td>citeseq</td>\n",
       "    </tr>\n",
       "    <tr>\n",
       "      <th>8</th>\n",
       "      <td>57f730249c87</td>\n",
       "      <td>2</td>\n",
       "      <td>27678</td>\n",
       "      <td>MasP</td>\n",
       "      <td>citeseq</td>\n",
       "    </tr>\n",
       "    <tr>\n",
       "      <th>9</th>\n",
       "      <td>08df3dcce25c</td>\n",
       "      <td>2</td>\n",
       "      <td>27678</td>\n",
       "      <td>HSC</td>\n",
       "      <td>citeseq</td>\n",
       "    </tr>\n",
       "  </tbody>\n",
       "</table>\n",
       "</div>"
      ],
      "text/plain": [
       "        cell_id  day  donor cell_type technology\n",
       "0  c2150f55becb    2  27678       HSC    citeseq\n",
       "1  65b7edf8a4da    2  27678       HSC    citeseq\n",
       "2  c1b26cb1057b    2  27678      EryP    citeseq\n",
       "3  917168fa6f83    2  27678      NeuP    citeseq\n",
       "4  2b29feeca86d    2  27678      EryP    citeseq\n",
       "5  0fd801488185    2  27678      EryP    citeseq\n",
       "6  526647a698f8    2  27678       HSC    citeseq\n",
       "7  ab8f207a3dec    2  27678       HSC    citeseq\n",
       "8  57f730249c87    2  27678      MasP    citeseq\n",
       "9  08df3dcce25c    2  27678       HSC    citeseq"
      ]
     },
     "execution_count": 11,
     "metadata": {},
     "output_type": "execute_result"
    }
   ],
   "source": [
    "metadata.head(n = 10)"
   ]
  },
  {
   "cell_type": "code",
   "execution_count": 12,
   "id": "5689318a-cba0-4d5c-80b1-59af702a2c63",
   "metadata": {
    "execution": {
     "iopub.execute_input": "2022-12-29T12:06:33.633120Z",
     "iopub.status.busy": "2022-12-29T12:06:33.632878Z",
     "iopub.status.idle": "2022-12-29T12:06:33.669945Z",
     "shell.execute_reply": "2022-12-29T12:06:33.669339Z",
     "shell.execute_reply.started": "2022-12-29T12:06:33.633101Z"
    },
    "tags": []
   },
   "outputs": [
    {
     "data": {
      "text/plain": [
       "True"
      ]
     },
     "execution_count": 12,
     "metadata": {},
     "output_type": "execute_result"
    }
   ],
   "source": [
    "metadata[\"cell_id\"].is_unique"
   ]
  },
  {
   "cell_type": "code",
   "execution_count": 13,
   "id": "02aa3c69-8541-4461-97fd-a89939962fdd",
   "metadata": {
    "execution": {
     "iopub.execute_input": "2022-12-29T12:06:33.671619Z",
     "iopub.status.busy": "2022-12-29T12:06:33.671330Z",
     "iopub.status.idle": "2022-12-29T12:06:33.776110Z",
     "shell.execute_reply": "2022-12-29T12:06:33.775508Z",
     "shell.execute_reply.started": "2022-12-29T12:06:33.671598Z"
    },
    "tags": []
   },
   "outputs": [
    {
     "data": {
      "image/png": "[encoded data removed]",
      "text/plain": [
       "<Figure size 640x480 with 1 Axes>"
      ]
     },
     "metadata": {},
     "output_type": "display_data"
    }
   ],
   "source": [
    "metadata[\"day\"].value_counts(dropna = False).sort_index().plot(kind = \"barh\")\n",
    "plt.title(\"Day\")\n",
    "plt.xlabel(\"count\")\n",
    "plt.ylabel(\"Day number\")\n",
    "plt.show()"
   ]
  },
  {
   "cell_type": "code",
   "execution_count": 14,
   "id": "43e3fd11-bca1-443d-8028-97a06f723e96",
   "metadata": {
    "execution": {
     "iopub.execute_input": "2022-12-29T12:06:33.777212Z",
     "iopub.status.busy": "2022-12-29T12:06:33.776935Z",
     "iopub.status.idle": "2022-12-29T12:06:33.878868Z",
     "shell.execute_reply": "2022-12-29T12:06:33.878272Z",
     "shell.execute_reply.started": "2022-12-29T12:06:33.777192Z"
    },
    "tags": []
   },
   "outputs": [
    {
     "data": {
      "image/png": "[encoded data removed]",
      "text/plain": [
       "<Figure size 640x480 with 1 Axes>"
      ]
     },
     "metadata": {},
     "output_type": "display_data"
    }
   ],
   "source": [
    "metadata[\"donor\"].value_counts(dropna = False).plot(kind = \"barh\")\n",
    "plt.title(\"Donor identifier\")\n",
    "plt.xlabel(\"count\")\n",
    "plt.ylabel(\"Donor\")\n",
    "plt.show()"
   ]
  },
  {
   "cell_type": "code",
   "execution_count": 15,
   "id": "c1d5d7f9-db86-4023-85f1-ebcff4f9e4cd",
   "metadata": {
    "execution": {
     "iopub.execute_input": "2022-12-29T12:06:33.879982Z",
     "iopub.status.busy": "2022-12-29T12:06:33.879709Z",
     "iopub.status.idle": "2022-12-29T12:06:34.005130Z",
     "shell.execute_reply": "2022-12-29T12:06:34.004530Z",
     "shell.execute_reply.started": "2022-12-29T12:06:33.879963Z"
    },
    "tags": []
   },
   "outputs": [
    {
     "data": {
      "image/png": "[encoded data removed]",
      "text/plain": [
       "<Figure size 640x480 with 1 Axes>"
      ]
     },
     "metadata": {},
     "output_type": "display_data"
    }
   ],
   "source": [
    "metadata[\"cell_type\"].value_counts(dropna = False).plot(kind = \"bar\")\n",
    "plt.title(\"Cell type\")\n",
    "plt.ylabel(\"count\")\n",
    "plt.xlabel(\"cell type\")\n",
    "plt.xticks(rotation = 0)\n",
    "plt.show()"
   ]
  },
  {
   "cell_type": "code",
   "execution_count": 16,
   "id": "b7d38332-fb8f-490f-be21-687e73e80484",
   "metadata": {
    "execution": {
     "iopub.execute_input": "2022-12-29T12:06:34.006232Z",
     "iopub.status.busy": "2022-12-29T12:06:34.005944Z",
     "iopub.status.idle": "2022-12-29T12:06:34.116747Z",
     "shell.execute_reply": "2022-12-29T12:06:34.116143Z",
     "shell.execute_reply.started": "2022-12-29T12:06:34.006212Z"
    }
   },
   "outputs": [
    {
     "data": {
      "image/png": "[encoded data removed]",
      "text/plain": [
       "<Figure size 640x480 with 1 Axes>"
      ]
     },
     "metadata": {},
     "output_type": "display_data"
    }
   ],
   "source": [
    "metadata[\"technology\"].value_counts(dropna = False).plot(kind = \"pie\")\n",
    "plt.legend()\n",
    "plt.show()"
   ]
  },
  {
   "cell_type": "markdown",
   "id": "0148ea43-0b85-4271-8afd-7e303c22929a",
   "metadata": {},
   "source": [
    "Each cell, `cell id`, is only measured on one day and one day only. \n",
    "\n",
    "In other words, the data does not track the same `cell id` across multiple days.\n",
    "\n",
    "As such, cannot conduct a time series prediction of using a cell's day *t* gene expression to predict the same cell's day *t+1* gene expression."
   ]
  },
  {
   "cell_type": "code",
   "execution_count": 17,
   "id": "131a53a7-49d9-4bf0-aba1-516b64b1139d",
   "metadata": {
    "execution": {
     "iopub.execute_input": "2022-12-29T12:06:34.118114Z",
     "iopub.status.busy": "2022-12-29T12:06:34.117575Z",
     "iopub.status.idle": "2022-12-29T12:06:38.032864Z",
     "shell.execute_reply": "2022-12-29T12:06:38.032232Z",
     "shell.execute_reply.started": "2022-12-29T12:06:34.118091Z"
    },
    "tags": []
   },
   "outputs": [
    {
     "data": {
      "text/plain": [
       "1    281528\n",
       "dtype: int64"
      ]
     },
     "execution_count": 17,
     "metadata": {},
     "output_type": "execute_result"
    }
   ],
   "source": [
    "(pd.crosstab(metadata[\"cell_id\"],metadata[\"day\"]).sum(axis = \"columns\")).value_counts(dropna = False)"
   ]
  },
  {
   "cell_type": "markdown",
   "id": "8f62319b-4e18-4429-b8cc-0a354a20c6aa",
   "metadata": {},
   "source": [
    "However, we do have the same `cell type` measured over multiple days."
   ]
  },
  {
   "cell_type": "code",
   "execution_count": 18,
   "id": "a6613668-fc96-4f95-82d7-66b5384cbe33",
   "metadata": {
    "execution": {
     "iopub.execute_input": "2022-12-29T12:06:38.034025Z",
     "iopub.status.busy": "2022-12-29T12:06:38.033721Z",
     "iopub.status.idle": "2022-12-29T12:06:38.072851Z",
     "shell.execute_reply": "2022-12-29T12:06:38.072245Z",
     "shell.execute_reply.started": "2022-12-29T12:06:38.034004Z"
    },
    "tags": []
   },
   "outputs": [
    {
     "data": {
      "text/html": [
       "<div>\n",
       "<style scoped>\n",
       "    .dataframe tbody tr th:only-of-type {\n",
       "        vertical-align: middle;\n",
       "    }\n",
       "\n",
       "    .dataframe tbody tr th {\n",
       "        vertical-align: top;\n",
       "    }\n",
       "\n",
       "    .dataframe thead th {\n",
       "        text-align: right;\n",
       "    }\n",
       "</style>\n",
       "<table border=\"1\" class=\"dataframe\">\n",
       "  <thead>\n",
       "    <tr style=\"text-align: right;\">\n",
       "      <th>day</th>\n",
       "      <th>2</th>\n",
       "      <th>3</th>\n",
       "      <th>4</th>\n",
       "      <th>7</th>\n",
       "      <th>10</th>\n",
       "    </tr>\n",
       "    <tr>\n",
       "      <th>cell_type</th>\n",
       "      <th></th>\n",
       "      <th></th>\n",
       "      <th></th>\n",
       "      <th></th>\n",
       "      <th></th>\n",
       "    </tr>\n",
       "  </thead>\n",
       "  <tbody>\n",
       "    <tr>\n",
       "      <th>BP</th>\n",
       "      <td>416</td>\n",
       "      <td>138</td>\n",
       "      <td>156</td>\n",
       "      <td>159</td>\n",
       "      <td>0</td>\n",
       "    </tr>\n",
       "    <tr>\n",
       "      <th>EryP</th>\n",
       "      <td>8287</td>\n",
       "      <td>10624</td>\n",
       "      <td>14938</td>\n",
       "      <td>7630</td>\n",
       "      <td>0</td>\n",
       "    </tr>\n",
       "    <tr>\n",
       "      <th>HSC</th>\n",
       "      <td>25053</td>\n",
       "      <td>22940</td>\n",
       "      <td>20868</td>\n",
       "      <td>8674</td>\n",
       "      <td>0</td>\n",
       "    </tr>\n",
       "    <tr>\n",
       "      <th>MasP</th>\n",
       "      <td>4792</td>\n",
       "      <td>6578</td>\n",
       "      <td>10977</td>\n",
       "      <td>12480</td>\n",
       "      <td>0</td>\n",
       "    </tr>\n",
       "    <tr>\n",
       "      <th>MkP</th>\n",
       "      <td>6228</td>\n",
       "      <td>4551</td>\n",
       "      <td>5819</td>\n",
       "      <td>7423</td>\n",
       "      <td>0</td>\n",
       "    </tr>\n",
       "    <tr>\n",
       "      <th>MoP</th>\n",
       "      <td>338</td>\n",
       "      <td>772</td>\n",
       "      <td>917</td>\n",
       "      <td>1856</td>\n",
       "      <td>0</td>\n",
       "    </tr>\n",
       "    <tr>\n",
       "      <th>NeuP</th>\n",
       "      <td>8215</td>\n",
       "      <td>10601</td>\n",
       "      <td>13436</td>\n",
       "      <td>10727</td>\n",
       "      <td>0</td>\n",
       "    </tr>\n",
       "    <tr>\n",
       "      <th>hidden</th>\n",
       "      <td>8921</td>\n",
       "      <td>7950</td>\n",
       "      <td>0</td>\n",
       "      <td>7291</td>\n",
       "      <td>31773</td>\n",
       "    </tr>\n",
       "  </tbody>\n",
       "</table>\n",
       "</div>"
      ],
      "text/plain": [
       "day           2      3      4      7      10\n",
       "cell_type                                   \n",
       "BP           416    138    156    159      0\n",
       "EryP        8287  10624  14938   7630      0\n",
       "HSC        25053  22940  20868   8674      0\n",
       "MasP        4792   6578  10977  12480      0\n",
       "MkP         6228   4551   5819   7423      0\n",
       "MoP          338    772    917   1856      0\n",
       "NeuP        8215  10601  13436  10727      0\n",
       "hidden      8921   7950      0   7291  31773"
      ]
     },
     "execution_count": 18,
     "metadata": {},
     "output_type": "execute_result"
    }
   ],
   "source": [
    "pd.crosstab(metadata[\"cell_type\"],metadata[\"day\"])"
   ]
  },
  {
   "cell_type": "markdown",
   "id": "d01e31e1-9de8-4fe1-ae42-0632b113117e",
   "metadata": {},
   "source": [
    "No `cell id` is measured by both technologies."
   ]
  },
  {
   "cell_type": "code",
   "execution_count": null,
   "id": "fe2f57d8-06a4-4432-9ed0-f7163dddbbcf",
   "metadata": {},
   "outputs": [],
   "source": []
  }
 ],
 "metadata": {
  "kernelspec": {
   "display_name": "saturn (Python 3)",
   "language": "python",
   "name": "python3"
  },
  "language_info": {
   "codemirror_mode": {
    "name": "ipython",
    "version": 3
   },
   "file_extension": ".py",
   "mimetype": "text/x-python",
   "name": "python",
   "nbconvert_exporter": "python",
   "pygments_lexer": "ipython3",
   "version": "3.9.15"
  }
 },
 "nbformat": 4,
 "nbformat_minor": 5
}
